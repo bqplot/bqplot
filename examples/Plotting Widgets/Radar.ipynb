{
 "cells": [
  {
   "cell_type": "code",
   "execution_count": 1,
   "id": "3c335cae",
   "metadata": {},
   "outputs": [],
   "source": [
    "from bqplot import Radar"
   ]
  },
  {
   "cell_type": "code",
   "execution_count": 2,
   "id": "9af1f293",
   "metadata": {},
   "outputs": [
    {
     "data": {
      "application/vnd.jupyter.widget-view+json": {
       "model_id": "d246b4376601442986071c4f81f51872",
       "version_major": 2,
       "version_minor": 0
      },
      "text/plain": [
       "Radar(animation_duration=1000, colors=['#1f77b4', '#ff7f0e', '#2ca02c', '#d62728', '#9467bd', '#8c564b', '#e37…"
      ]
     },
     "metadata": {},
     "output_type": "display_data"
    }
   ],
   "source": [
    "import pandas as pd\n",
    "import numpy as np\n",
    "\n",
    "df = pd.DataFrame(np.random.rand(7, 4), columns=list(\"ABCD\"),\n",
    "                  index=[f\"R{i+1}\" for i in range(7)])\n",
    "radar = Radar(data=df, data_range=[0, 1], fill=True, num_bands=5, band_type=\"circle\", animation_duration=1000)\n",
    "\n",
    "# radar is a figure so we can update its title\n",
    "radar.title = \"Radar\"\n",
    "\n",
    "# since radar is a figure (which is a DOM widget) we can directly render it\n",
    "radar"
   ]
  },
  {
   "cell_type": "code",
   "execution_count": 12,
   "id": "5e5182b9",
   "metadata": {},
   "outputs": [],
   "source": [
    "#update data\n",
    "radar.data = pd.DataFrame(np.random.rand(10, 5), columns=list(\"ABCDE\"),\n",
    "                          index=[f\"R{i+1}\" for i in range(10)])"
   ]
  },
  {
   "cell_type": "code",
   "execution_count": 4,
   "id": "98f62241",
   "metadata": {},
   "outputs": [],
   "source": [
    "# change radar type\n",
    "radar.band_type = \"polygon\""
   ]
  },
  {
   "cell_type": "code",
   "execution_count": 5,
   "id": "24ec08f4",
   "metadata": {},
   "outputs": [],
   "source": [
    "# no fill\n",
    "radar.fill = False"
   ]
  },
  {
   "cell_type": "code",
   "execution_count": 6,
   "id": "62e6703a",
   "metadata": {},
   "outputs": [],
   "source": [
    "# set number of bands to 8\n",
    "radar.num_bands = 8"
   ]
  },
  {
   "cell_type": "code",
   "execution_count": 7,
   "id": "89d061e7",
   "metadata": {},
   "outputs": [],
   "source": [
    "# since radar is a figure composed of primitive marks we can directly change the internals\n",
    "# update loop colors\n",
    "radar.loops.colors = [\"red\", \"magenta\", \"green\", \"orange\"]"
   ]
  },
  {
   "cell_type": "code",
   "execution_count": 8,
   "id": "86358e41",
   "metadata": {},
   "outputs": [],
   "source": [
    "# remove the band labels\n",
    "radar.band_labels.text = []"
   ]
  },
  {
   "cell_type": "code",
   "execution_count": 9,
   "id": "19cd8e07",
   "metadata": {},
   "outputs": [],
   "source": [
    "# remove the spoke labels\n",
    "radar.spoke_labels.text = []"
   ]
  },
  {
   "cell_type": "code",
   "execution_count": null,
   "id": "06754761",
   "metadata": {},
   "outputs": [],
   "source": []
  }
 ],
 "metadata": {
  "kernelspec": {
   "display_name": "Python 3 (ipykernel)",
   "language": "python",
   "name": "python3"
  },
  "language_info": {
   "codemirror_mode": {
    "name": "ipython",
    "version": 3
   },
   "file_extension": ".py",
   "mimetype": "text/x-python",
   "name": "python",
   "nbconvert_exporter": "python",
   "pygments_lexer": "ipython3",
   "version": "3.7.12"
  }
 },
 "nbformat": 4,
 "nbformat_minor": 5
}
