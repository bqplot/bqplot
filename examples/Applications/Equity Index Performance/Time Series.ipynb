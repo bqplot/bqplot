{
 "cells": [
  {
   "cell_type": "markdown",
   "metadata": {},
   "source": [
    "### US Equity market performance from 1995 to 2021\n",
    "In this visualization we'll look S&P 500 Index performance from 1995 to 2021. The visulization consists of two charts:\n",
    "* Time Series Chart of Index prices\n",
    "* Histogram of the log returns\n",
    "\n",
    "We'll use the [Fast Interval Selector](../Interactions/Selectors.ipynb) to quickly select different time slices and perform time series analysis on the selected slice (in this case, displaying the total return and the distribution of log returns). **Click on the time series chart to activate the interval selector!**\n",
    "\n",
    "Fun things to try:\n",
    "1. `FastIntervalSelector` responds to mouse moves! Move the mouse pointer up to expand the interval, down to contract the interval. Single click toggles between freezing/unfreezing the window length. Double click totally freezes the interval selector. Move the interval selector to perform quick visual time series analysis!\n",
    "2. Notice that the color of the return label changes with the sign of the total return (red for negative returns and green for positive returns)\n",
    "3. What was the index performance from 1995-2005? 2000-2010? 2010-2020?\n",
    "4. Does the return distribution have fat tails? (especially during 2008 financial crisis, 2020 covid crisis)"
   ]
  },
  {
   "cell_type": "code",
   "execution_count": null,
   "metadata": {},
   "outputs": [],
   "source": [
    "import numpy as np\n",
    "import pandas as pd\n",
    "\n",
    "from ipywidgets import *\n",
    "from bqplot import DateScale, LinearScale\n",
    "import bqplot.pyplot as plt\n",
    "from bqplot.interacts import FastIntervalSelector"
   ]
  },
  {
   "cell_type": "code",
   "execution_count": null,
   "metadata": {},
   "outputs": [],
   "source": [
    "def regress(x, y):\n",
    "    b = np.cov(x, y)[0, 1] / np.var(x)\n",
    "    a = y.mean() - b * x.mean()\n",
    "    return a, b\n",
    "\n",
    "def trend_score(x, y):\n",
    "    \"\"\"computes trend score as a cube of correlation coeff\"\"\"\n",
    "    return np.corrcoef(x, y)[0, 1] ** 3"
   ]
  },
  {
   "cell_type": "code",
   "execution_count": null,
   "metadata": {},
   "outputs": [],
   "source": [
    "spx_prices = pd.read_csv(\"spx_prices.csv\", index_col=0, \n",
    "                         squeeze=True, parse_dates=True)\n",
    "dates = spx_prices.index\n",
    "prices = spx_prices\n",
    "log_returns = np.log(prices / prices.shift(1)).dropna()"
   ]
  },
  {
   "cell_type": "code",
   "execution_count": null,
   "metadata": {
    "scrolled": false
   },
   "outputs": [],
   "source": [
    "fig_title_tmpl = \"S&P Index Prices (from {} to {})\"\n",
    "fig_title = fig_title_tmpl.format(dates[0].strftime(\"%m/%d/%Y\"), \n",
    "                                  dates[-1].strftime(\"%m/%d/%Y\"))\n",
    "time_series_fig = plt.figure(title=fig_title, \n",
    "                             layout=Layout(width=\"1300px\",\n",
    "                                           height=\"500px\"))\n",
    "\n",
    "plt.scales(scales={\"x\": DateScale()})\n",
    "axes_options = {\"y\": {\"tick_format\": \",\"}}\n",
    "time_series = plt.plot(dates, prices, colors=[\"deepskyblue\"], \n",
    "                       stroke_width=1.5, axes_options=axes_options)\n",
    "return_label = plt.label([], x=[], y=[prices.max() * .9], \n",
    "                         align=\"middle\", default_size=36, \n",
    "                         font_weight=\"bolder\", colors=[\"orange\"])\n",
    "trend_line = plt.plot([], [])\n",
    "intsel = FastIntervalSelector(scale=time_series.scales['x'], marks=[time_series])\n",
    "time_series_fig.interaction = intsel\n",
    "\n",
    "hist_fig = plt.figure(title=\"Histogram Of Daily Returns\",\n",
    "                      layout=Layout(width=\"900px\",\n",
    "                                    height=\"450px\",\n",
    "                                    margin=\"0px 150px 0px 150px\"))\n",
    "plt.scales(scales={\"x\": LinearScale(min=-.1, max=.1)})\n",
    "hist = plt.hist(log_returns, colors=[\"salmon\"], bins=75)\n",
    "for axis in hist_fig.axes:\n",
    "    axis.grid_lines = \"none\"\n",
    "    if axis.orientation != \"vertical\":\n",
    "        axis.tick_format = \".0%\"\n",
    "\n",
    "def update_trend_line(*args):\n",
    "    selected_idx = time_series.selected\n",
    "    if selected_idx is not None:\n",
    "        x = np.array(selected_idx)\n",
    "        y = time_series.y[selected_idx]\n",
    "\n",
    "        a, b = regress(x, y)\n",
    "        ts = trend_score(x, y)\n",
    "        end_points = [selected_idx[0], selected_idx[-1]]\n",
    "        pct_return = prices[end_points[1]] / prices[end_points[0]] - 1\n",
    "        \n",
    "        with return_label.hold_sync():\n",
    "            return_label.text = ['{:.0%}'.format(pct_return)]\n",
    "            return_label.x = [time_series.x[(end_points[0] + end_points[1]) // 2]]\n",
    "        \n",
    "        with trend_line.hold_sync():\n",
    "            trend_line.x = time_series.x[end_points]\n",
    "            trend_line.y = a + b * np.array(end_points)\n",
    "            if np.abs(ts) < .1:\n",
    "                trend_line.colors = ['yellow']\n",
    "            elif ts > .1:\n",
    "                trend_line.colors = ['lime']\n",
    "            else:\n",
    "                trend_line.colors = ['red']    \n",
    "            trend_line.stroke_width = 2 + 6 * np.abs(ts)\n",
    "        time_series_fig.title = fig_title_tmpl.format(*[dates[i].strftime('%m/%d/%Y') \\\n",
    "                                                        for i in end_points])\n",
    "        # update hist with returns\n",
    "        hist.sample = np.log(y[1:] / y[:-1])\n",
    "\n",
    "time_series.observe(update_trend_line, 'selected')\n",
    "VBox([time_series_fig, hist_fig])"
   ]
  }
 ],
 "metadata": {
  "kernelspec": {
   "display_name": "Python 3 (ipykernel)",
   "language": "python",
   "name": "python3"
  },
  "language_info": {
   "codemirror_mode": {
    "name": "ipython",
    "version": 3
   },
   "file_extension": ".py",
   "mimetype": "text/x-python",
   "name": "python",
   "nbconvert_exporter": "python",
   "pygments_lexer": "ipython3",
   "version": "3.9.7"
  }
 },
 "nbformat": 4,
 "nbformat_minor": 2
}
