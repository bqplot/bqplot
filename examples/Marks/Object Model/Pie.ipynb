{
 "cells": [
  {
   "cell_type": "code",
   "execution_count": null,
   "metadata": {
    "collapsed": true,
    "deletable": true,
    "editable": true,
    "scrolled": true
   },
   "outputs": [],
   "source": [
    "from bqplot import Pie, Figure\n",
    "import numpy as np\n",
    "import string"
   ]
  },
  {
   "cell_type": "markdown",
   "metadata": {
    "deletable": true,
    "editable": true
   },
   "source": [
    "## Basic Pie Chart"
   ]
  },
  {
   "cell_type": "code",
   "execution_count": null,
   "metadata": {
    "collapsed": false,
    "deletable": true,
    "editable": true,
    "scrolled": true
   },
   "outputs": [],
   "source": [
    "data = np.random.rand(3)\n",
    "pie = Pie(sizes=data, display_labels=\"outside\", labels=list(string.ascii_uppercase))\n",
    "fig = Figure(marks=[pie], animation_duration=1000)\n",
    "fig"
   ]
  },
  {
   "cell_type": "markdown",
   "metadata": {
    "deletable": true,
    "editable": true
   },
   "source": [
    "### Update Data"
   ]
  },
  {
   "cell_type": "code",
   "execution_count": null,
   "metadata": {
    "collapsed": true,
    "deletable": true,
    "editable": true,
    "scrolled": true
   },
   "outputs": [],
   "source": [
    "n = np.random.randint(1, 10)\n",
    "pie.sizes = np.random.rand(n)"
   ]
  },
  {
   "cell_type": "markdown",
   "metadata": {
    "deletable": true,
    "editable": true
   },
   "source": [
    "### Display Values"
   ]
  },
  {
   "cell_type": "code",
   "execution_count": null,
   "metadata": {
    "collapsed": true,
    "deletable": true,
    "editable": true,
    "scrolled": true
   },
   "outputs": [],
   "source": [
    "with pie.hold_sync():\n",
    "    pie.display_values = True\n",
    "    pie.values_format = \".1f\""
   ]
  },
  {
   "cell_type": "markdown",
   "metadata": {
    "deletable": true,
    "editable": true
   },
   "source": [
    "### Enable sort"
   ]
  },
  {
   "cell_type": "code",
   "execution_count": null,
   "metadata": {
    "collapsed": true,
    "deletable": true,
    "editable": true,
    "scrolled": true
   },
   "outputs": [],
   "source": [
    "pie.sort = True"
   ]
  },
  {
   "cell_type": "markdown",
   "metadata": {
    "deletable": true,
    "editable": true
   },
   "source": [
    "### Set different styles for selected slices"
   ]
  },
  {
   "cell_type": "code",
   "execution_count": null,
   "metadata": {
    "collapsed": true,
    "deletable": true,
    "editable": true,
    "scrolled": true
   },
   "outputs": [],
   "source": [
    "pie.selected_style = {\"opacity\": 1, \"stroke\": \"white\", \"stroke-width\": 2}\n",
    "pie.unselected_style = {\"opacity\": 0.2}\n",
    "pie.selected = [1]"
   ]
  },
  {
   "cell_type": "code",
   "execution_count": null,
   "metadata": {
    "collapsed": true,
    "deletable": true,
    "editable": true,
    "scrolled": true
   },
   "outputs": [],
   "source": [
    "pie.selected = None"
   ]
  },
  {
   "cell_type": "markdown",
   "metadata": {
    "deletable": true,
    "editable": true
   },
   "source": [
    "For more on piechart interactions, see the [Mark Interactions notebook](../Interactions/Mark Interactions.ipynb)"
   ]
  },
  {
   "cell_type": "markdown",
   "metadata": {
    "deletable": true,
    "editable": true
   },
   "source": [
    "### Modify label styling"
   ]
  },
  {
   "cell_type": "code",
   "execution_count": null,
   "metadata": {
    "collapsed": true,
    "deletable": true,
    "editable": true,
    "scrolled": true
   },
   "outputs": [],
   "source": [
    "pie.label_color = \"Red\"\n",
    "pie.font_size = \"20px\"\n",
    "pie.font_weight = \"bold\""
   ]
  },
  {
   "cell_type": "markdown",
   "metadata": {
    "deletable": true,
    "editable": true
   },
   "source": [
    "### Update pie shape and style"
   ]
  },
  {
   "cell_type": "code",
   "execution_count": null,
   "metadata": {
    "collapsed": false,
    "deletable": true,
    "editable": true,
    "scrolled": true
   },
   "outputs": [],
   "source": [
    "pie1 = Pie(sizes=np.random.rand(6), inner_radius=0.05)\n",
    "fig1 = Figure(marks=[pie1], animation_duration=1000)\n",
    "fig1"
   ]
  },
  {
   "cell_type": "markdown",
   "metadata": {
    "deletable": true,
    "editable": true
   },
   "source": [
    "### Change pie dimensions"
   ]
  },
  {
   "cell_type": "code",
   "execution_count": null,
   "metadata": {
    "collapsed": true,
    "deletable": true,
    "editable": true,
    "scrolled": true
   },
   "outputs": [],
   "source": [
    "# As of now, the radius sizes are absolute, in pixels\n",
    "with pie1.hold_sync():\n",
    "    pie1.radius = 150\n",
    "    pie1.inner_radius = 100"
   ]
  },
  {
   "cell_type": "code",
   "execution_count": null,
   "metadata": {
    "collapsed": true,
    "deletable": true,
    "editable": true,
    "scrolled": true
   },
   "outputs": [],
   "source": [
    "# Angles are in radians, 0 being the top vertical\n",
    "with pie1.hold_sync():\n",
    "    pie1.start_angle = -90\n",
    "    pie1.end_angle = 90"
   ]
  },
  {
   "cell_type": "markdown",
   "metadata": {
    "deletable": true,
    "editable": true
   },
   "source": [
    "### Move the pie around\n",
    "`x` and `y` attributes control the position of the pie in the figure.\n",
    "If no scales are passed for `x` and `y`, they are taken in absolute\n",
    "figure coordinates, between 0 and 1."
   ]
  },
  {
   "cell_type": "code",
   "execution_count": null,
   "metadata": {
    "collapsed": true,
    "deletable": true,
    "editable": true,
    "scrolled": true
   },
   "outputs": [],
   "source": [
    "pie1.y = 0.1\n",
    "pie1.x = 0.6\n",
    "pie1.radius = 180"
   ]
  },
  {
   "cell_type": "markdown",
   "metadata": {
    "deletable": true,
    "editable": true
   },
   "source": [
    "### Change slice styles\n",
    "Pie slice colors cycle through the `colors` and `opacities` attribute, as the `Lines` Mark."
   ]
  },
  {
   "cell_type": "code",
   "execution_count": null,
   "metadata": {
    "collapsed": false,
    "deletable": true,
    "editable": true,
    "scrolled": true
   },
   "outputs": [],
   "source": [
    "pie1.stroke = \"brown\"\n",
    "pie1.colors = [\"orange\", \"darkviolet\"]\n",
    "pie1.opacities = [0.1, 1]\n",
    "fig1"
   ]
  },
  {
   "cell_type": "markdown",
   "metadata": {
    "deletable": true,
    "editable": true
   },
   "source": [
    "## Represent an additional dimension using Color"
   ]
  },
  {
   "cell_type": "markdown",
   "metadata": {
    "deletable": true,
    "editable": true
   },
   "source": [
    "The `Pie` allows for its colors to be determined by data, that is passed to the `color` attribute.\n",
    "A `ColorScale` with the desired color scheme must also be passed."
   ]
  },
  {
   "cell_type": "code",
   "execution_count": null,
   "metadata": {
    "collapsed": false,
    "deletable": true,
    "editable": true,
    "scrolled": true
   },
   "outputs": [],
   "source": [
    "from bqplot import ColorScale, ColorAxis\n",
    "\n",
    "Nslices = 7\n",
    "size_data = np.random.rand(Nslices)\n",
    "color_data = np.random.randn(Nslices)\n",
    "\n",
    "sc = ColorScale(scheme=\"Reds\")\n",
    "# The ColorAxis gives a visual representation of its ColorScale\n",
    "ax = ColorAxis(scale=sc)\n",
    "\n",
    "pie2 = Pie(sizes=size_data, scales={\"color\": sc}, color=color_data)\n",
    "Figure(marks=[pie2], axes=[ax])"
   ]
  },
  {
   "cell_type": "markdown",
   "metadata": {
    "deletable": true,
    "editable": true
   },
   "source": [
    "## Position the Pie using custom scales"
   ]
  },
  {
   "cell_type": "markdown",
   "metadata": {
    "deletable": true,
    "editable": true
   },
   "source": [
    "Pies can be positioned, via the `x` and `y` attributes,\n",
    "using either absolute figure scales or custom 'x' or 'y' scales"
   ]
  },
  {
   "cell_type": "code",
   "execution_count": null,
   "metadata": {
    "collapsed": false,
    "deletable": true,
    "editable": true,
    "scrolled": true
   },
   "outputs": [],
   "source": [
    "from datetime import datetime\n",
    "from bqplot.traits import convert_to_date\n",
    "from bqplot import DateScale, LinearScale, Axis\n",
    "\n",
    "avg_precipitation_days = [\n",
    "    (d / 30.0, 1 - d / 30.0) for d in [2, 3, 4, 6, 12, 17, 23, 22, 15, 4, 1, 1]\n",
    "]\n",
    "temperatures = [9, 12, 16, 20, 22, 23, 22, 22, 22, 20, 15, 11]\n",
    "\n",
    "dates = [datetime(2010, k, 1) for k in range(1, 13)]\n",
    "\n",
    "sc_x = DateScale()\n",
    "sc_y = LinearScale()\n",
    "ax_x = Axis(scale=sc_x, label=\"Month\", tick_format=\"%b\")\n",
    "ax_y = Axis(scale=sc_y, orientation=\"vertical\", label=\"Average Temperature\")\n",
    "\n",
    "pies = [\n",
    "    Pie(\n",
    "        sizes=precipit,\n",
    "        x=date,\n",
    "        y=temp,\n",
    "        display_labels=\"none\",\n",
    "        scales={\"x\": sc_x, \"y\": sc_y},\n",
    "        radius=30.0,\n",
    "        stroke=\"navy\",\n",
    "        apply_clip=False,\n",
    "        colors=[\"navy\", \"navy\"],\n",
    "        opacities=[1, 0.1],\n",
    "    )\n",
    "    for precipit, date, temp in zip(avg_precipitation_days, dates, temperatures)\n",
    "]\n",
    "\n",
    "Figure(\n",
    "    title=\"Kathmandu Precipitation\",\n",
    "    marks=pies,\n",
    "    axes=[ax_x, ax_y],\n",
    "    padding_x=0.05,\n",
    "    padding_y=0.1,\n",
    ")"
   ]
  }
 ],
 "metadata": {
  "kernelspec": {
   "display_name": "Python 3",
   "language": "python",
   "name": "python3"
  },
  "language_info": {
   "codemirror_mode": {
    "name": "ipython",
    "version": 3
   },
   "file_extension": ".py",
   "mimetype": "text/x-python",
   "name": "python",
   "nbconvert_exporter": "python",
   "pygments_lexer": "ipython3",
   "version": "3.6.4"
  }
 },
 "nbformat": 4,
 "nbformat_minor": 1
}
