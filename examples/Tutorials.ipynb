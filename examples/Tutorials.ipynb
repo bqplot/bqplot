{
 "cells": [
  {
   "cell_type": "markdown",
   "metadata": {},
   "source": [
    "# Tutorials"
   ]
  },
  {
   "cell_type": "markdown",
   "metadata": {},
   "source": [
    "## Basic Plotting\n",
    "* [Using the Object Model](Tutorials/Object%20Model.ipynb)\n",
    "* [Using `pyplot`](Tutorials/Pyplot.ipynb)\n",
    "\n",
    "## Interactive Plotting\n",
    "* [Updating plots](Tutorials/Updating%20Plots.ipynb)\n",
    "* ### Integrating with `ipywidgets`\n",
    "    * [Linking with ipywidgets](Tutorials/Linking%20Plots%20With%20Widgets.ipynb)\n",
    "    * [Application: Gaussian Density](Tutorials/Gaussian%20Density.ipynb)\n",
    "\n",
    "* ### Linking Plots Using Selectors\n",
    "    * [Fast Interval Selector](Tutorials/Fast%20Interval%20Selector.ipynb)\n",
    "    * [Brush Interval Selector](Tutorials/Brush%20Interval%20Selector.ipynb)"
   ]
  }
 ],
 "metadata": {
  "kernelspec": {
   "display_name": "Python 3",
   "language": "python",
   "name": "python3"
  },
  "language_info": {
   "codemirror_mode": {
    "name": "ipython",
    "version": 3
   },
   "file_extension": ".py",
   "mimetype": "text/x-python",
   "name": "python",
   "nbconvert_exporter": "python",
   "pygments_lexer": "ipython3",
   "version": "3.7.6"
  }
 },
 "nbformat": 4,
 "nbformat_minor": 1
}
