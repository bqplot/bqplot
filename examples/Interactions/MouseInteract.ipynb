{
 "cells": [
  {
   "cell_type": "code",
   "execution_count": null,
   "metadata": {
    "ExecuteTime": {
     "end_time": "2020-03-24T15:24:02.615527Z",
     "start_time": "2020-03-24T15:24:02.391047Z"
    }
   },
   "outputs": [],
   "source": [
    "# some random data\n",
    "import numpy as np\n",
    "size = 100\n",
    "np.random.seed(0)\n",
    "x_data = np.arange(size)\n",
    "y_data = np.cumsum(np.random.randn(size)  * 100.0)"
   ]
  },
  {
   "cell_type": "code",
   "execution_count": null,
   "metadata": {
    "ExecuteTime": {
     "end_time": "2020-03-24T15:24:03.233550Z",
     "start_time": "2020-03-24T15:24:02.618084Z"
    }
   },
   "outputs": [],
   "source": [
    "# imports\n",
    "import ipywidgets as widgets\n",
    "from bqplot import LinearScale, Scatter, Figure, Axis, Lines\n",
    "from bqplot.interacts import MouseInteraction"
   ]
  },
  {
   "cell_type": "code",
   "execution_count": null,
   "metadata": {
    "ExecuteTime": {
     "end_time": "2020-03-24T15:24:03.259730Z",
     "start_time": "2020-03-24T15:24:03.236658Z"
    }
   },
   "outputs": [],
   "source": [
    "x_scale = LinearScale()\n",
    "y_scale = LinearScale()\n",
    "scatter_chart = Scatter(x=x_data, y=y_data, scales={'x': x_scale, 'y': y_scale})\n",
    "x_axis = Axis(label='X', scale=x_scale)\n",
    "y_axis = Axis(label='Y', scale=y_scale, orientation='vertical')\n",
    "patch = Lines(x=[[20, 30, 40, 30]],  y=[[0, 200, 600]],\n",
    "              fill_colors=['orange'], fill='inside',\n",
    "              close_path=True,\n",
    "              scales={'x': x_scale, 'y': y_scale},\n",
    "              )"
   ]
  },
  {
   "cell_type": "code",
   "execution_count": null,
   "metadata": {
    "ExecuteTime": {
     "end_time": "2020-03-24T15:24:03.267526Z",
     "start_time": "2020-03-24T15:24:03.262168Z"
    }
   },
   "outputs": [],
   "source": [
    "output = widgets.Output()"
   ]
  },
  {
   "cell_type": "code",
   "execution_count": null,
   "metadata": {
    "ExecuteTime": {
     "end_time": "2020-03-24T15:24:03.289818Z",
     "start_time": "2020-03-24T15:24:03.269683Z"
    }
   },
   "outputs": [],
   "source": [
    "mouse_interaction = MouseInteraction(x_scale=x_scale, y_scale=y_scale, cursor='crosshair')\n",
    "fig = Figure(marks=[scatter_chart, patch], title='Drag to draw', axes=[x_axis, y_axis], layout={'width': '500px'},\n",
    "             interaction=mouse_interaction)\n",
    "fig"
   ]
  },
  {
   "cell_type": "code",
   "execution_count": null,
   "metadata": {
    "ExecuteTime": {
     "end_time": "2020-03-24T15:24:03.306931Z",
     "start_time": "2020-03-24T15:24:03.292483Z"
    }
   },
   "outputs": [],
   "source": [
    "xlist = []\n",
    "ylist = []\n",
    "last_x = 0\n",
    "last_y = 0\n",
    "move_mode = False\n",
    "\n",
    "def mouse_msg(self, msg, buffers):\n",
    "    global xlist, ylist, move_mode, last_x, last_y\n",
    "    with output:\n",
    "        name = msg['event']\n",
    "        domain = msg['domain']\n",
    "        x, y = domain['x'], domain['y']\n",
    "        if name == 'click':\n",
    "            print(name, x, y)\n",
    "            scatter_chart.x = scatter_chart.x.tolist() + [x]\n",
    "            scatter_chart.y = scatter_chart.y.tolist() + [y]            \n",
    "            scatter_chart.colors = ['red'] if scatter_chart.colors == ['steelblue'] else ['steelblue']\n",
    "        if name == 'dblclick':\n",
    "            move_mode = not move_mode\n",
    "            fig.title = 'Drag to move' if move_mode else 'Drag to draw'\n",
    "            mouse_interaction.cursor = 'grab' if move_mode else 'crosshair'\n",
    "        if move_mode:\n",
    "            if name == 'dragstart':\n",
    "                last_x, last_y = x, y\n",
    "                patch.fill_colors = ['blue']\n",
    "            elif name == 'dragmove':\n",
    "                dx = x - last_x\n",
    "                dy = y - last_y\n",
    "                last_x, last_y = x, y\n",
    "                patch.x = patch.x + dx\n",
    "                patch.y = patch.y + dy\n",
    "                patch.fill_colors = ['pink']\n",
    "            elif name == 'dragend':\n",
    "                patch.fill_colors = ['purple']\n",
    "        else:\n",
    "            if name == 'dragstart':\n",
    "                xlist = [x]\n",
    "                ylist = [y]\n",
    "                patch.fill_colors = ['orange']\n",
    "            elif name == 'dragmove':\n",
    "                xlist.append(x)\n",
    "                ylist.append(y)\n",
    "                patch.x = xlist\n",
    "                patch.y = ylist\n",
    "            else:\n",
    "                patch.fill_colors = ['green']\n",
    "mouse_interaction.on_msg(mouse_msg)"
   ]
  },
  {
   "cell_type": "code",
   "execution_count": null,
   "metadata": {
    "ExecuteTime": {
     "end_time": "2020-03-24T15:24:03.315229Z",
     "start_time": "2020-03-24T15:24:03.309453Z"
    }
   },
   "outputs": [],
   "source": [
    "output"
   ]
  }
 ],
 "metadata": {
  "kernelspec": {
   "display_name": "Python 3",
   "language": "python",
   "name": "python3"
  },
  "language_info": {
   "codemirror_mode": {
    "name": "ipython",
    "version": 3
   },
   "file_extension": ".py",
   "mimetype": "text/x-python",
   "name": "python",
   "nbconvert_exporter": "python",
   "pygments_lexer": "ipython3",
   "version": "3.7.3"
  }
 },
 "nbformat": 4,
 "nbformat_minor": 2
}
