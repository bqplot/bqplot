{
 "cells": [
  {
   "cell_type": "code",
   "execution_count": null,
   "id": "romance-heavy",
   "metadata": {},
   "outputs": [],
   "source": [
    "from bqplot import *\n",
    "\n",
    "import numpy as np\n",
    "import pandas as pd"
   ]
  },
  {
   "cell_type": "code",
   "execution_count": null,
   "id": "physical-right",
   "metadata": {},
   "outputs": [],
   "source": [
    "size = 100\n",
    "np.random.seed(0)\n",
    "\n",
    "x_data = range(size)\n",
    "y_data = np.random.randn(size)\n",
    "y_data_2 = np.random.randn(size)\n",
    "y_data_3 = np.cumsum(np.random.randn(size) * 100.)"
   ]
  },
  {
   "cell_type": "code",
   "execution_count": null,
   "id": "excellent-column",
   "metadata": {},
   "outputs": [],
   "source": [
    "# Create Bar\n",
    "x_ord = OrdinalScale()\n",
    "y_sc = LinearScale()\n",
    "\n",
    "bar = Bars(x=np.arange(10), y=np.random.rand(10), scales={'x': x_ord, 'y': y_sc})\n",
    "ax_x = Axis(scale=x_ord)\n",
    "ax_y = Axis(scale=y_sc, tick_format='0.2f', orientation='vertical')\n",
    "\n",
    "fig = Figure(marks=[bar], axes=[ax_x, ax_y], padding_x=0.025, padding_y=0.025)\n",
    "fig"
   ]
  },
  {
   "cell_type": "code",
   "execution_count": null,
   "id": "valid-rider",
   "metadata": {},
   "outputs": [],
   "source": [
    "x_ord = OrdinalScale()\n",
    "y_sc = LinearScale()\n",
    "\n",
    "bar = Bars(\n",
    "    x=np.arange(10), \n",
    "    y=np.random.rand(10), \n",
    "    scales={'x': x_ord, 'y': y_sc}, \n",
    "    opacities=[0.5, 0.2, 0.3, 0.8],\n",
    "    colors=['red', 'blue', 'green']\n",
    ")\n",
    "ax_x = Axis(scale=x_ord)\n",
    "ax_y = Axis(scale=y_sc, tick_format='0.2f', orientation='vertical')\n",
    "\n",
    "fig = Figure(marks=[bar], axes=[ax_x, ax_y], padding_x=0.025, padding_y=0.025)\n",
    "fig"
   ]
  },
  {
   "cell_type": "code",
   "execution_count": null,
   "id": "9b7a4696",
   "metadata": {},
   "outputs": [],
   "source": [
    "x_ord = OrdinalScale()\n",
    "y_sc = LinearScale()\n",
    "\n",
    "bar = Bars(x=np.arange(10), y=np.random.rand(10), scales={'x': x_ord, 'y': y_sc},\n",
    "               label_display=True,\n",
    "               label_display_vertical_offset=-13)\n",
    "\n",
    "ax_x = Axis(scale=x_ord)\n",
    "ax_y = Axis(scale=y_sc, tick_format='0.2f', orientation='vertical')\n",
    "\n",
    "Figure(marks=[bar], axes=[ax_x, ax_y], padding_x=0.025, padding_y=0.05)"
   ]
  },
  {
   "cell_type": "code",
   "execution_count": null,
   "id": "68d55c1d",
   "metadata": {},
   "outputs": [],
   "source": [
    "x_ord = OrdinalScale()\n",
    "y_sc = LinearScale()\n",
    "\n",
    "bar = Bars(x=np.arange(10), y=np.random.rand(10), scales={'x': x_ord, 'y': y_sc},\n",
    "           label_display=True,\n",
    "           label_display_vertical_offset=-13,\n",
    "           label_display_horizontal_offset=-20)\n",
    "\n",
    "ax_x = Axis(scale=x_ord)\n",
    "ax_y = Axis(scale=y_sc, tick_format='0.2f', orientation='vertical')\n",
    "\n",
    "Figure(marks=[bar], axes=[ax_x, ax_y], padding_x=0.025, padding_y=0.05)"
   ]
  },
  {
   "cell_type": "code",
   "execution_count": null,
   "id": "ddc9b18f",
   "metadata": {},
   "outputs": [],
   "source": [
    "x_ord = OrdinalScale()\n",
    "y_sc = LinearScale()\n",
    "\n",
    "bar = Bars(x=np.arange(10), y=np.random.rand(10), scales={'x': x_ord, 'y': y_sc},\n",
    "           label_display=True,\n",
    "           label_display_vertical_offset=-13,\n",
    "           label_display_horizontal_offset=-20,\n",
    "           label_display_format='.3f')\n",
    "\n",
    "ax_x = Axis(scale=x_ord)\n",
    "ax_y = Axis(scale=y_sc, tick_format='0.2f', orientation='vertical')\n",
    "\n",
    "Figure(marks=[bar], axes=[ax_x, ax_y], padding_x=0.025, padding_y=0.05)"
   ]
  },
  {
   "cell_type": "code",
   "execution_count": null,
   "id": "6d1d205a",
   "metadata": {},
   "outputs": [],
   "source": [
    "x_ord = OrdinalScale()\n",
    "y_sc = LinearScale()\n",
    "\n",
    "bar = Bars(x=np.arange(10), y=np.random.rand(10), scales={'x': x_ord, 'y': y_sc},\n",
    "           label_display=True,\n",
    "           label_display_vertical_offset=-13,\n",
    "           label_display_horizontal_offset=-20,\n",
    "           label_display_format='.3f',\n",
    "           label_font_style={ 'fill': 'green' })\n",
    "\n",
    "ax_x = Axis(scale=x_ord)\n",
    "ax_y = Axis(scale=y_sc, tick_format='0.2f', orientation='vertical')\n",
    "\n",
    "Figure(marks=[bar], axes=[ax_x, ax_y], padding_x=0.025, padding_y=0.05)"
   ]
  },
  {
   "cell_type": "code",
   "execution_count": null,
   "id": "e1d6a5fe",
   "metadata": {},
   "outputs": [],
   "source": [
    "x = [i*3 for i in list(\"abc\")] \n",
    "y = np.abs(np.random.randn(10) * 100)\n",
    "\n",
    "sc_x = OrdinalScale()\n",
    "sc_y = LogScale()\n",
    "scales = {\"x\": sc_x, \"y\": sc_y}\n",
    "\n",
    "line = Lines(x=x, y=y, scales=scales, marker='circle')\n",
    "bars = Bars(x=x, y=y, scales=scales, opacities=[0.1])\n",
    "\n",
    "ax_x = Axis(scale=sc_x, grid_lines=\"none\")\n",
    "ax_y = Axis(scale=sc_y, orientation=\"vertical\")\n",
    "Figure(marks=[line, bars], axes=[ax_x, ax_y], title=\"Empty log scale\")"
   ]
  }
 ],
 "metadata": {
  "kernelspec": {
   "display_name": "Python 3",
   "language": "python",
   "name": "python3"
  },
  "language_info": {
   "codemirror_mode": {
    "name": "ipython",
    "version": 3
   },
   "file_extension": ".py",
   "mimetype": "text/x-python",
   "name": "python",
   "nbconvert_exporter": "python",
   "pygments_lexer": "ipython3",
   "version": "3.9.5"
  }
 },
 "nbformat": 4,
 "nbformat_minor": 5
}
