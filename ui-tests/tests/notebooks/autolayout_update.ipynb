{
 "cells": [
  {
   "cell_type": "code",
   "execution_count": null,
   "id": "c784010c",
   "metadata": {},
   "outputs": [],
   "source": [
    "import numpy as np\n",
    "import bqplot.pyplot as plt\n",
    "from bqplot import CATEGORY10, ColorScale\n",
    "\n",
    "size = 100\n",
    "np.random.seed(0)\n",
    "\n",
    "x_data = range(size)\n",
    "y_data = np.random.randn(size)\n",
    "y_data_2 = np.random.randn(size)\n",
    "y_data_3 = np.cumsum(np.random.randn(size) * 100.0)\n",
    "\n",
    "fig = plt.figure(title=\"Bar Chart\", auto_layout=True)\n",
    "plt.bar(np.arange(10), np.random.rand(10))\n",
    "plt.show()"
   ]
  },
  {
   "cell_type": "code",
   "execution_count": null,
   "id": "35e27b07",
   "metadata": {},
   "outputs": [],
   "source": [
    "fig.axes[0].label = 'Label X'"
   ]
  },
  {
   "cell_type": "code",
   "execution_count": null,
   "id": "850a61b1",
   "metadata": {},
   "outputs": [],
   "source": [
    "fig.axes[1].label = 'Label Y'"
   ]
  },
  {
   "cell_type": "code",
   "execution_count": null,
   "id": "ad3238ff",
   "metadata": {},
   "outputs": [],
   "source": [
    "fig.axes[1].tick_rotate = 70"
   ]
  },
  {
   "cell_type": "code",
   "execution_count": null,
   "id": "9910d142",
   "metadata": {},
   "outputs": [],
   "source": [
    "fig.min_aspect_ratio = 1\n",
    "fig.max_aspect_ratio = 1"
   ]
  },
  {
   "cell_type": "code",
   "execution_count": null,
   "id": "de3c2e41",
   "metadata": {},
   "outputs": [],
   "source": [
    "fig.max_aspect_ratio = 2"
   ]
  }
 ],
 "metadata": {
  "kernelspec": {
   "display_name": "Python 3 (ipykernel)",
   "language": "python",
   "name": "python3"
  },
  "language_info": {
   "codemirror_mode": {
    "name": "ipython",
    "version": 3
   },
   "file_extension": ".py",
   "mimetype": "text/x-python",
   "name": "python",
   "nbconvert_exporter": "python",
   "pygments_lexer": "ipython3",
   "version": "3.9.9"
  }
 },
 "nbformat": 4,
 "nbformat_minor": 5
}
